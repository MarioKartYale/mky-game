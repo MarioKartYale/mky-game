{
 "cells": [
  {
   "cell_type": "markdown",
   "id": "76b3f6cf-6c88-45d2-9969-baaf4042652b",
   "metadata": {},
   "source": [
    "# Firestore PoC\n",
    "\n",
    "Demonstrates python functionality for taking data from races and aggregating it in the appropriate collections in Firestore. Can also be used to add sample data to our database."
   ]
  },
  {
   "cell_type": "markdown",
   "id": "10cfc7f3-8794-467a-bf44-f5251973d351",
   "metadata": {},
   "source": [
    "## Initialize Cloud Firestore SDK on Google Cloud"
   ]
  },
  {
   "cell_type": "code",
   "execution_count": 1,
   "id": "3ee9a74f-561e-4947-b265-9214011c6da9",
   "metadata": {},
   "outputs": [],
   "source": [
    "import os\n",
    "from dotenv import load_dotenv\n",
    "from pathlib import Path\n",
    "import firebase_admin\n",
    "from firebase_admin import credentials\n",
    "from firebase_admin import firestore\n",
    "\n",
    "env_path = Path('..')/'.env'\n",
    "load_dotenv(dotenv_path=env_path)\n",
    "\n",
    "if not firebase_admin._apps:\n",
    "    cred = credentials.Certificate(os.environ.get(\"GOOGLE_APPLICATION_CREDENTIALS\"))\n",
    "    firebase_admin.initialize_app(cred)\n",
    "    \n",
    "db = firestore.client()"
   ]
  },
  {
   "cell_type": "markdown",
   "id": "f3251c15-a0e3-4b4f-8a30-ef59358dd4cf",
   "metadata": {},
   "source": [
    "## Utility Functions"
   ]
  },
  {
   "cell_type": "code",
   "execution_count": 2,
   "id": "11fafa4a-177c-48f2-b423-6b0d47e3f097",
   "metadata": {},
   "outputs": [],
   "source": [
    "import re\n",
    "\n",
    "def getDocId(name: str):\n",
    "    cleaned = re.sub(r\"[/?*=#]\", \"\", name)\n",
    "    return cleaned.replace(\" \", \"_\").lower()"
   ]
  },
  {
   "cell_type": "markdown",
   "id": "6a0a0801-5ea7-4289-a7a0-eb3a13eb91c1",
   "metadata": {},
   "source": [
    "## Create Sample Race Data"
   ]
  },
  {
   "cell_type": "code",
   "execution_count": 3,
   "id": "ab2f5fbd-150e-428f-a092-33da8d0a96c8",
   "metadata": {},
   "outputs": [
    {
     "name": "stdout",
     "output_type": "stream",
     "text": [
      "trumbull_circuit_1\n"
     ]
    }
   ],
   "source": [
    "track = \"Baby Park\"\n",
    "eventName = \"Trumbull Circuit #1\"\n",
    "\n",
    "print(getDocId(eventName))"
   ]
  },
  {
   "cell_type": "code",
   "execution_count": null,
   "id": "c53379d7-331a-4fce-8a1b-1440d457efed",
   "metadata": {},
   "outputs": [],
   "source": []
  }
 ],
 "metadata": {
  "kernelspec": {
   "display_name": "MKY (Firestore)",
   "language": "python",
   "name": "firestore-mky"
  },
  "language_info": {
   "codemirror_mode": {
    "name": "ipython",
    "version": 3
   },
   "file_extension": ".py",
   "mimetype": "text/x-python",
   "name": "python",
   "nbconvert_exporter": "python",
   "pygments_lexer": "ipython3",
   "version": "3.12.7"
  }
 },
 "nbformat": 4,
 "nbformat_minor": 5
}
