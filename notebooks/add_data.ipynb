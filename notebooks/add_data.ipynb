{
 "cells": [
  {
   "cell_type": "markdown",
   "id": "76b3f6cf-6c88-45d2-9969-baaf4042652b",
   "metadata": {},
   "source": [
    "# Firestore PoC\n",
    "\n",
    "Demonstrates python functionality for taking data from races and aggregating it in the appropriate collections in Firestore. Can also be used to add sample data to our database."
   ]
  },
  {
   "cell_type": "markdown",
   "id": "10cfc7f3-8794-467a-bf44-f5251973d351",
   "metadata": {},
   "source": [
    "## Initialize Cloud Firestore SDK on Google Cloud"
   ]
  },
  {
   "cell_type": "code",
   "execution_count": 52,
   "id": "3ee9a74f-561e-4947-b265-9214011c6da9",
   "metadata": {},
   "outputs": [],
   "source": [
    "import os\n",
    "from dotenv import load_dotenv\n",
    "from pathlib import Path\n",
    "import firebase_admin\n",
    "from firebase_admin import credentials\n",
    "from firebase_admin import firestore\n",
    "\n",
    "env_path = Path('..')/'.env'\n",
    "load_dotenv(dotenv_path=env_path)\n",
    "\n",
    "if not firebase_admin._apps:\n",
    "    cred = credentials.Certificate(os.environ.get(\"GOOGLE_APPLICATION_CREDENTIALS\"))\n",
    "    firebase_admin.initialize_app(cred)\n",
    "    \n",
    "db = firestore.client()"
   ]
  },
  {
   "cell_type": "markdown",
   "id": "f3251c15-a0e3-4b4f-8a30-ef59358dd4cf",
   "metadata": {},
   "source": [
    "## Utility Functions"
   ]
  },
  {
   "cell_type": "code",
   "execution_count": 2,
   "id": "11fafa4a-177c-48f2-b423-6b0d47e3f097",
   "metadata": {},
   "outputs": [],
   "source": [
    "import re\n",
    "\n",
    "def getDocId(name: str):\n",
    "    cleaned = re.sub(r\"[/?*=#]\", \"\", name)\n",
    "    return cleaned.replace(\" \", \"_\").lower()"
   ]
  },
  {
   "cell_type": "markdown",
   "id": "1f9662cc-744a-4220-b75d-eb5d3fb665e9",
   "metadata": {},
   "source": [
    "## Race and Result Class"
   ]
  },
  {
   "cell_type": "code",
   "execution_count": 34,
   "id": "eac90d1b-6908-4e99-aa28-9304c31d7262",
   "metadata": {},
   "outputs": [],
   "source": [
    "from typing import List\n",
    "\n",
    "class Result:\n",
    "    def __init__(self, netid: str, name: str, college: str, place: int, points: int, lap1: float, lap2: float, lap3: float):\n",
    "        self.netid = netid\n",
    "        self.name = name\n",
    "        self.college = college\n",
    "\n",
    "        self.college_id = getDocId(college)\n",
    "        \n",
    "        self.place = place\n",
    "        self.points = points\n",
    "        self.lap1 = lap1\n",
    "        self.lap2 = lap2\n",
    "        self.lap3 = lap3\n",
    "        \n",
    "        self.total_time = lap1 + lap2 + lap3\n",
    "\n",
    "    @staticmethod\n",
    "    def from_dict(source):\n",
    "        return Result(\n",
    "            netid = source[\"netid\"],\n",
    "            name = source[\"name\"],\n",
    "            college = source[\"college\"],\n",
    "            place = source[\"place\"],\n",
    "            points = source[\"points\"],\n",
    "            lap1 = source[\"lap1\"],\n",
    "            lap2 = source[\"lap2\"],\n",
    "            lap3 = source[\"lap3\"]\n",
    "        )\n",
    "\n",
    "    def to_dict(self):\n",
    "        return {\n",
    "            \"netid\": self.netid,\n",
    "            \"name\": self.name,\n",
    "            \"college\": self.college,\n",
    "            \"college_id\": self.college_id,\n",
    "            \"place\": self.place,\n",
    "            \"points\": self.points,\n",
    "            \"lap1\": self.lap1,\n",
    "            \"lap2\": self.lap2,\n",
    "            \"lap3\": self.lap3,\n",
    "            \"total_time\": self.total_time\n",
    "        }\n",
    "\n",
    "    def __repr__(self):\n",
    "        return (f\"---\\n\\n\"\n",
    "                f\"NetId: {self.netid}\\n\"\n",
    "                f\"Name: {self.name}\\n\"\n",
    "                f\"College: {self.college} ({self.college_id})\\n\"\n",
    "                f\"Place: {self.place}\\n\"\n",
    "                f\"Points: {self.points}\\n\"\n",
    "                f\"Total Time: {self.total_time}\\n\"\n",
    "                f\"Splits: {self.lap1} | {self.lap2} | {self.lap3}\\n\\n\")\n",
    "\n",
    "class Race:\n",
    "    def __init__(self, datetime: str, event: str, race_number: int, track: str, results: List[Result]):\n",
    "        self.datetime = datetime\n",
    "        self.event = event\n",
    "\n",
    "        self.event_id = getDocId(event)\n",
    "        \n",
    "        self.race_number = race_number\n",
    "\n",
    "        self.race_id = getDocId(f\"{event}-{str(race_number).zfill(3)}\")\n",
    "        \n",
    "        self.track = track\n",
    "        self.results = sorted(results, key = lambda result: result.total_time)\n",
    "\n",
    "    @staticmethod\n",
    "    def from_dict(source):\n",
    "        results = [Result.from_dict(result) for result in source[\"results\"]]\n",
    "        return Race(\n",
    "            datetime = source[\"datetime\"],\n",
    "            event = source[\"event\"],\n",
    "            race_number = source[\"race_number\"],\n",
    "            track = source[\"track\"],\n",
    "            results = results\n",
    "        )\n",
    "\n",
    "    def to_dict(self):\n",
    "        results = [result.to_dict() for result in self.results]\n",
    "        return {\n",
    "            \"datetime\": self.datetime,\n",
    "            \"event\": self.event,\n",
    "            \"event_id\": self.event_id,\n",
    "            \"race_number\": self.race_number,\n",
    "            \"race_id\": self.race_id,\n",
    "            \"track\": self.track,\n",
    "            \"results\": results\n",
    "        }\n",
    "\n",
    "    def __repr__(self):\n",
    "        return (f\"Datetime: {self.datetime}\\n\"\n",
    "                f\"Event: {self.event} ({self.event_id})\\n\"\n",
    "                f\"Race Number: {self.race_number} ({self.race_id})\\n\"\n",
    "                f\"Track: {self.track}\\n\"\n",
    "                f\"Results:\\n\\n\"\n",
    "                f\"{''.join([str(result) for result in self.results])}\")"
   ]
  },
  {
   "cell_type": "markdown",
   "id": "6a0a0801-5ea7-4289-a7a0-eb3a13eb91c1",
   "metadata": {},
   "source": [
    "## Create Sample Race Data"
   ]
  },
  {
   "cell_type": "code",
   "execution_count": 82,
   "id": "ab2f5fbd-150e-428f-a092-33da8d0a96c8",
   "metadata": {},
   "outputs": [],
   "source": [
    "datetime = \"2025-06-15T13:12:27\"\n",
    "\n",
    "event = \"Trumbull Circuit #1\"\n",
    "race_number = 6\n",
    "\n",
    "track = \"Baby Park\"\n",
    "\n",
    "results = [\n",
    "    {\n",
    "        \"netid\": \"ref42\",\n",
    "        \"name\": \"Ryan Fernandes\",\n",
    "        \"college\": \"Trumbull\",\n",
    "        \"place\": 1,\n",
    "        \"points\": 15,\n",
    "        \"lap1\": 70.89,\n",
    "        \"lap2\": 60.54,\n",
    "        \"lap3\": 65.66\n",
    "    },\n",
    "    {\n",
    "        \"netid\": \"oad9\",\n",
    "        \"name\": \"Oscar de la Cerda\",\n",
    "        \"college\": \"Ezra Stiles\",\n",
    "        \"place\": 3,\n",
    "        \"points\": 12,\n",
    "        \"lap1\": 74.89,\n",
    "        \"lap2\": 72.11,\n",
    "        \"lap3\": 60.10,\n",
    "    },\n",
    "    {\n",
    "        \"netid\": \"ds3249\",\n",
    "        \"name\": \"David Sadka\",\n",
    "        \"college\": \"Timothy Dwight\",\n",
    "        \"place\": 4,\n",
    "        \"points\": 11,\n",
    "        \"lap1\": 71.89,\n",
    "        \"lap2\": 75.99,\n",
    "        \"lap3\": 70.22\n",
    "    },\n",
    "    {\n",
    "        \"netid\": \"dkl26\",\n",
    "        \"name\": \"Daniel Landry\",\n",
    "        \"college\": \"Berkeley\",\n",
    "        \"place\": 12,\n",
    "        \"points\": 1,\n",
    "        \"lap1\": 79.89,\n",
    "        \"lap2\": 70.23,\n",
    "        \"lap3\": 80.12,\n",
    "    }\n",
    "]\n",
    "\n",
    "result_objects = [Result.from_dict(result) for result in results]\n",
    "race_object = Race(\n",
    "                datetime = datetime,\n",
    "                event = event,\n",
    "                race_number = race_number,\n",
    "                track = track,\n",
    "                results = result_objects\n",
    "                )"
   ]
  },
  {
   "cell_type": "code",
   "execution_count": 38,
   "id": "c53379d7-331a-4fce-8a1b-1440d457efed",
   "metadata": {},
   "outputs": [
    {
     "data": {
      "text/plain": [
       "Datetime: 2025-06-15T1:12:27\n",
       "Event: Trumbull Circuit #1 (trumbull_circuit_1)\n",
       "Race Number: 6 (trumbull_circuit_1-006)\n",
       "Track: Baby Park\n",
       "Results:\n",
       "\n",
       "---\n",
       "\n",
       "NetId: ref42\n",
       "Name: Ryan Fernandes\n",
       "College: Trumbull (trumbull)\n",
       "Place: 1\n",
       "Points: 15\n",
       "Total Time: 197.09\n",
       "Splits: 70.89 | 60.54 | 65.66\n",
       "\n",
       "---\n",
       "\n",
       "NetId: oad9\n",
       "Name: Oscar de la Cerda\n",
       "College: Ezra Stiles (ezra_stiles)\n",
       "Place: 3\n",
       "Points: 12\n",
       "Total Time: 207.1\n",
       "Splits: 74.89 | 72.11 | 60.1\n",
       "\n",
       "---\n",
       "\n",
       "NetId: ds3249\n",
       "Name: David Sadka\n",
       "College: Timothy Dwight (timothy_dwight)\n",
       "Place: 4\n",
       "Points: 11\n",
       "Total Time: 218.1\n",
       "Splits: 71.89 | 75.99 | 70.22\n",
       "\n",
       "---\n",
       "\n",
       "NetId: dkl26\n",
       "Name: Daniel Landry\n",
       "College: Berkeley (berkeley)\n",
       "Place: 12\n",
       "Points: 1\n",
       "Total Time: 230.24\n",
       "Splits: 79.89 | 70.23 | 80.12\n"
      ]
     },
     "execution_count": 38,
     "metadata": {},
     "output_type": "execute_result"
    }
   ],
   "source": [
    "race_object"
   ]
  },
  {
   "cell_type": "markdown",
   "id": "b1723d53-d8f0-48a6-aacf-b7b9ddb7fda7",
   "metadata": {},
   "source": [
    "## Post Data to Races Collection"
   ]
  },
  {
   "cell_type": "code",
   "execution_count": 40,
   "id": "24b490f0-8c13-4286-8c5a-2ad76e773234",
   "metadata": {},
   "outputs": [
    {
     "data": {
      "text/plain": [
       "update_time {\n",
       "  seconds: 1750008294\n",
       "  nanos: 895767000\n",
       "}"
      ]
     },
     "execution_count": 40,
     "metadata": {},
     "output_type": "execute_result"
    }
   ],
   "source": [
    "db.collection(\"races\").document(race_object.race_id).set(race_object.to_dict())"
   ]
  },
  {
   "cell_type": "markdown",
   "id": "f090eafc-50cf-4bd9-9d8a-3f5696186711",
   "metadata": {},
   "source": [
    "## Post Data to Users Collection"
   ]
  },
  {
   "cell_type": "code",
   "execution_count": 75,
   "id": "5cc28e6a-7cc3-4970-aaf5-07dc396c110f",
   "metadata": {},
   "outputs": [],
   "source": [
    "# Implement college rank later\n",
    "\n",
    "import requests\n",
    "\n",
    "YALIES_KEY = os.environ.get(\"YALIES_KEY\")\n",
    "\n",
    "def findYalie(netid):\n",
    "    headers = {\n",
    "    \t\"Authorization\": f\"Bearer {YALIES_KEY}\"\n",
    "    }\n",
    "    body = {\n",
    "    \t\"filters\": {\"netid\": netid}\n",
    "    }\n",
    "    request = requests.post(\"https://api.yalies.io/v2/people\", headers=headers, json=body)\n",
    "    return request.json()\n",
    "\n",
    "def validateYalie(yalie):\n",
    "    if (len(yalie) > 0):\n",
    "        yalie_object = yalie[0]\n",
    "    else:\n",
    "        raise RuntimeError(f\"Yalies response empty: {yalie}\")\n",
    "    \n",
    "    if (\"netid\" in yalie_object) and (\"first_name\" in yalie_object) and (\"last_name\" in yalie_object) and (\"year\" in yalie_object) and (\"college\" in yalie_object):\n",
    "        return {\n",
    "            \"netid\": yalie_object[\"netid\"],\n",
    "            \"first_name\": yalie_object[\"first_name\"],\n",
    "            \"last_name\": yalie_object[\"last_name\"],\n",
    "            \"year\": yalie_object[\"year\"],\n",
    "            \"college\": yalie_object[\"college\"]\n",
    "        }\n",
    "    else:\n",
    "        raise RuntimeError(f\"Yalies response incomplete: {yalie_object}\")\n",
    "\n",
    "def createNewUser(netid: str):\n",
    "    yalies_data = validateYalie(findYalie(netid))\n",
    "    college_id = getDocId(yalies_data[\"college\"])\n",
    "    user_data = {\n",
    "        \"netid\": yalies_data[\"netid\"],\n",
    "        \"first_name\": yalies_data[\"first_name\"],\n",
    "        \"last_name\": yalies_data[\"last_name\"],\n",
    "        \"year\": yalies_data[\"year\"],\n",
    "        \"college\": yalies_data[\"college\"],\n",
    "        \"points\": 0,\n",
    "        \"race_count\": 0,\n",
    "        \"races\": []\n",
    "    }\n",
    "\n",
    "    return db.collection(\"users\").document(user_data[\"netid\"]).set(user_data)"
   ]
  },
  {
   "cell_type": "code",
   "execution_count": 76,
   "id": "ee4e0628-e170-4428-b6ff-089da066d2b9",
   "metadata": {},
   "outputs": [
    {
     "data": {
      "text/plain": [
       "update_time {\n",
       "  seconds: 1750011825\n",
       "  nanos: 577677000\n",
       "}"
      ]
     },
     "execution_count": 76,
     "metadata": {},
     "output_type": "execute_result"
    }
   ],
   "source": [
    "createNewUser(\"ref42\")"
   ]
  },
  {
   "cell_type": "code",
   "execution_count": 78,
   "id": "d66c5ed8-b7be-4978-b5cc-27311f354473",
   "metadata": {},
   "outputs": [],
   "source": [
    "def updateUsers(race_object):\n",
    "    for result in race_object.results:\n",
    "        if not db.collection(\"users\").document(result.netid).get().exists:\n",
    "            createNewUser(result.netid)\n",
    "        doc_ref = db.collection(\"users\").document(result.netid)\n",
    "        doc_ref.update({\n",
    "            \"points\": firestore.Increment(result.points),\n",
    "            \"race_count\": firestore.Increment(1),\n",
    "            \"races\": firestore.ArrayUnion([{\n",
    "                \"race_id\": race_object.race_id,\n",
    "                \"datetime\": race_object.datetime,\n",
    "                \"event\": race_object.event,\n",
    "                \"event_id\": race_object.event_id,\n",
    "                \"track\": race_object.track,\n",
    "                \"place\": result.place,\n",
    "                \"points\": result.points,\n",
    "                \"lap1\": result.lap1,\n",
    "                \"lap2\": result.lap2,\n",
    "                \"lap3\": result.lap3,\n",
    "                \"total_time\": result.total_time\n",
    "            }])\n",
    "        })"
   ]
  },
  {
   "cell_type": "code",
   "execution_count": 79,
   "id": "01bf348b-795c-4939-af92-6b863b9cb592",
   "metadata": {},
   "outputs": [],
   "source": [
    "updateUsers(race_object)"
   ]
  },
  {
   "cell_type": "markdown",
   "id": "b4ddcf36-7fdf-4653-8d99-d359c92dea51",
   "metadata": {},
   "source": [
    "## Post Data to Events Collection"
   ]
  },
  {
   "cell_type": "code",
   "execution_count": 81,
   "id": "1aa08ee6-8b9c-4c49-a096-3c8bde1878ba",
   "metadata": {},
   "outputs": [],
   "source": [
    "class BaseEvent:\n",
    "    def __init__(self, name, location, description, start, end):\n",
    "        self.name = name\n",
    "        self.location = location\n",
    "        self.description = description\n",
    "        self.start = start\n",
    "        self.end = end\n",
    "\n",
    "    def __repr__(self):\n",
    "        return (f\"{self.name}:\\n\"\n",
    "                f\"{self.start} - {self.end}\\n\"\n",
    "                f\"{self.location}\\n\\n\"\n",
    "                f\"{self.description}\")"
   ]
  },
  {
   "cell_type": "code",
   "execution_count": 83,
   "id": "49ebfe06-054c-43b4-a49a-99c734762c03",
   "metadata": {},
   "outputs": [],
   "source": [
    "base_event = BaseEvent(\n",
    "                name=\"Trumbull Circuit #1\",\n",
    "                location=\"Trumbull Dining Hall\",\n",
    "                description=\"Spice up meatloaf night with some Mario Kart with friends!\",\n",
    "                start=\"2025-06-15T12:00:00\",\n",
    "                end=\"2025-06-15T17:00:00\")"
   ]
  },
  {
   "cell_type": "code",
   "execution_count": 91,
   "id": "d361eede-194e-41ff-af91-4382574b08ed",
   "metadata": {},
   "outputs": [],
   "source": [
    "COLLEGE_NAMES = [\"Benjamin Franklin\", \"Berkeley\", \"Branford\", \"Davenport\", \"Ezra Stiles\", \"Grace Hopper\", \"Jonathan Edwards\", \"Morse\", \"Pauli Murray\", \"Pierson\", \"Saybrook\", \"Silliman\", \"Timothy Dwight\", \"Trumbull\"]"
   ]
  },
  {
   "cell_type": "code",
   "execution_count": 92,
   "id": "f8a9bc6f-a291-4145-886c-c848250befe6",
   "metadata": {},
   "outputs": [],
   "source": [
    "def initializeEvent(base_event: BaseEvent):\n",
    "    event_data = {\"name\": base_event.name,\n",
    "                    \"event_id\": getDocId(base_event.name),\n",
    "                    \"location\": base_event.location,\n",
    "                    \"start\": base_event.start,\n",
    "                    \"end\": base_event.end,\n",
    "                    \"participants\": [],\n",
    "                    \"colleges\": [{\"name\": name,\n",
    "                                    \"college_id\": getDocId(name),\n",
    "                                    \"points\": 0,\n",
    "                                    \"races\": 0} for name in COLLEGE_NAMES]}\n",
    "\n",
    "    return db.collection(\"events\").document(event_data[\"event_id\"]).set(event_data)"
   ]
  },
  {
   "cell_type": "code",
   "execution_count": 93,
   "id": "fb8c74c5-92e3-4d2e-932d-10d21c1a6126",
   "metadata": {},
   "outputs": [
    {
     "data": {
      "text/plain": [
       "update_time {\n",
       "  seconds: 1750032097\n",
       "  nanos: 535644000\n",
       "}"
      ]
     },
     "execution_count": 93,
     "metadata": {},
     "output_type": "execute_result"
    }
   ],
   "source": [
    "initializeEvent(base_event)"
   ]
  },
  {
   "cell_type": "code",
   "execution_count": 98,
   "id": "e3cae3e4-7baa-4f78-ab6a-6e367d5efec8",
   "metadata": {},
   "outputs": [],
   "source": [
    "def updateEvent(race_object):\n",
    "    doc_ref = db.collection(\"events\").document(race_object.event_id)\n",
    "    doc = doc_ref.get()\n",
    "\n",
    "    point_additions = {college: 0 for college in COLLEGE_NAMES} \n",
    "    race_additions = {college: 0 for college in COLLEGE_NAMES} \n",
    "    netids = []\n",
    "\n",
    "    if doc.exists:\n",
    "        data = doc.to_dict()\n",
    "        colleges = data.get(\"colleges\", [])\n",
    "    else:\n",
    "        raise RuntimeError(f\"Event not found: {event_id}\")\n",
    "    \n",
    "    for result in race_object.results:\n",
    "        point_additions[result.college] += result.points\n",
    "        race_additions[result.college] += 1\n",
    "        netids.append(result.netid)\n",
    "\n",
    "    for college in colleges:\n",
    "        college[\"points\"] += point_additions[college[\"name\"]]\n",
    "        college[\"races\"] += race_additions[college[\"name\"]]\n",
    "\n",
    "    return doc_ref.update({\"participants\": firestore.ArrayUnion(netids),\n",
    "                            \"colleges\": colleges})"
   ]
  },
  {
   "cell_type": "code",
   "execution_count": 100,
   "id": "2525580d-1cec-43e4-9df8-c1360874b98c",
   "metadata": {},
   "outputs": [
    {
     "data": {
      "text/plain": [
       "update_time {\n",
       "  seconds: 1750035952\n",
       "  nanos: 750691000\n",
       "}\n",
       "transform_results {\n",
       "  null_value: NULL_VALUE\n",
       "}"
      ]
     },
     "execution_count": 100,
     "metadata": {},
     "output_type": "execute_result"
    }
   ],
   "source": [
    "updateEvent(race_object)"
   ]
  },
  {
   "cell_type": "code",
   "execution_count": null,
   "id": "7790aee5-a740-4d63-abac-18489150de4c",
   "metadata": {},
   "outputs": [],
   "source": []
  }
 ],
 "metadata": {
  "kernelspec": {
   "display_name": "MKY (Firestore)",
   "language": "python",
   "name": "firestore-mky"
  },
  "language_info": {
   "codemirror_mode": {
    "name": "ipython",
    "version": 3
   },
   "file_extension": ".py",
   "mimetype": "text/x-python",
   "name": "python",
   "nbconvert_exporter": "python",
   "pygments_lexer": "ipython3",
   "version": "3.12.7"
  }
 },
 "nbformat": 4,
 "nbformat_minor": 5
}
