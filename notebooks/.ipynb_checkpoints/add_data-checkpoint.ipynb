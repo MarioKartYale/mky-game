{
 "cells": [
  {
   "cell_type": "markdown",
   "id": "76b3f6cf-6c88-45d2-9969-baaf4042652b",
   "metadata": {},
   "source": [
    "# Firestore PoC\n",
    "\n",
    "Demonstrates python functionality for taking data from races and aggregating it in the appropriate collections in Firestore. Can also be used to add sample data to our database."
   ]
  },
  {
   "cell_type": "markdown",
   "id": "10cfc7f3-8794-467a-bf44-f5251973d351",
   "metadata": {},
   "source": [
    "## Initialize Cloud Firestore SDK on Google Cloud"
   ]
  },
  {
   "cell_type": "code",
   "execution_count": 1,
   "id": "3ee9a74f-561e-4947-b265-9214011c6da9",
   "metadata": {},
   "outputs": [
    {
     "ename": "NameError",
     "evalue": "name 'os' is not defined",
     "output_type": "error",
     "traceback": [
      "\u001b[31m---------------------------------------------------------------------------\u001b[39m",
      "\u001b[31mNameError\u001b[39m                                 Traceback (most recent call last)",
      "\u001b[36mCell\u001b[39m\u001b[36m \u001b[39m\u001b[32mIn[1]\u001b[39m\u001b[32m, line 11\u001b[39m\n\u001b[32m      8\u001b[39m load_dotenv(dotenv_path=env_path)\n\u001b[32m     10\u001b[39m \u001b[38;5;28;01mif\u001b[39;00m \u001b[38;5;129;01mnot\u001b[39;00m firebase_admin._apps:\n\u001b[32m---> \u001b[39m\u001b[32m11\u001b[39m     cred = credentials.Certificate(\u001b[43mos\u001b[49m.environ.get(\u001b[33m\"\u001b[39m\u001b[33mGOOGLE_APPLICATION_CREDENTIALS\u001b[39m\u001b[33m\"\u001b[39m))\n\u001b[32m     12\u001b[39m     firebase_admin.initialize_app(cred)\n\u001b[32m     14\u001b[39m db = firestore.client()\n",
      "\u001b[31mNameError\u001b[39m: name 'os' is not defined"
     ]
    }
   ],
   "source": [
    "import os\n",
    "from dotenv import load_dotenv\n",
    "from pathlib import Path\n",
    "import firebase_admin\n",
    "from firebase_admin import credentials\n",
    "from firebase_admin import firestore\n",
    "\n",
    "env_path = Path('..')/'.env'\n",
    "load_dotenv(dotenv_path=env_path)\n",
    "\n",
    "if not firebase_admin._apps:\n",
    "    cred = credentials.Certificate(os.environ.get(\"GOOGLE_APPLICATION_CREDENTIALS\"))\n",
    "    firebase_admin.initialize_app(cred)\n",
    "    \n",
    "db = firestore.client()"
   ]
  }
 ],
 "metadata": {
  "kernelspec": {
   "display_name": "MKY (Firestore)",
   "language": "python",
   "name": "firestore-mky"
  },
  "language_info": {
   "codemirror_mode": {
    "name": "ipython",
    "version": 3
   },
   "file_extension": ".py",
   "mimetype": "text/x-python",
   "name": "python",
   "nbconvert_exporter": "python",
   "pygments_lexer": "ipython3",
   "version": "3.12.7"
  }
 },
 "nbformat": 4,
 "nbformat_minor": 5
}
